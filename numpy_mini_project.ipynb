{
  "nbformat": 4,
  "nbformat_minor": 0,
  "metadata": {
    "colab": {
      "provenance": [],
      "mount_file_id": "1SGm2hTZRib2b0J2PE5cK_n67M1fGJHtu",
      "authorship_tag": "ABX9TyPF7jNAzoRaqd6kSAtKVgYI"
    },
    "kernelspec": {
      "name": "python3",
      "display_name": "Python 3"
    },
    "language_info": {
      "name": "python"
    }
  },
  "cells": [
    {
      "cell_type": "code",
      "source": [
        "import numpy as np\n",
        "import pandas as pd\n"
      ],
      "metadata": {
        "id": "b2HtIbGALCyH"
      },
      "execution_count": 1,
      "outputs": []
    },
    {
      "cell_type": "code",
      "execution_count": 2,
      "metadata": {
        "id": "--fLckNMHt_3"
      },
      "outputs": [],
      "source": [
        "data_file = '/content/drive/MyDrive/Colab Notebooks/projects/Data processing/makeSenseOfCensus.csv'"
      ]
    },
    {
      "cell_type": "code",
      "source": [
        "df= pd.read_csv(data_file)\n",
        "df.head()"
      ],
      "metadata": {
        "colab": {
          "base_uri": "https://localhost:8080/",
          "height": 206
        },
        "id": "ds4ugcyHj2Ml",
        "outputId": "8e54a9a5-16e9-41be-a220-9d95e9548cd0"
      },
      "execution_count": 3,
      "outputs": [
        {
          "output_type": "execute_result",
          "data": {
            "text/plain": [
              "   age  education-num  race  sex  capital-gain  capital-loss  hours-per-week  \\\n",
              "0   39             13     4    1          2174             0              40   \n",
              "1   50             13     4    1             0             0              13   \n",
              "2   38              9     4    1             0             0              40   \n",
              "3   53              7     2    1             0             0              40   \n",
              "4   28             13     2    0             0             0              40   \n",
              "\n",
              "   income  \n",
              "0       0  \n",
              "1       0  \n",
              "2       0  \n",
              "3       0  \n",
              "4       0  "
            ],
            "text/html": [
              "\n",
              "  <div id=\"df-a06a64ed-6d1e-4c27-a1c2-195a2341b6df\">\n",
              "    <div class=\"colab-df-container\">\n",
              "      <div>\n",
              "<style scoped>\n",
              "    .dataframe tbody tr th:only-of-type {\n",
              "        vertical-align: middle;\n",
              "    }\n",
              "\n",
              "    .dataframe tbody tr th {\n",
              "        vertical-align: top;\n",
              "    }\n",
              "\n",
              "    .dataframe thead th {\n",
              "        text-align: right;\n",
              "    }\n",
              "</style>\n",
              "<table border=\"1\" class=\"dataframe\">\n",
              "  <thead>\n",
              "    <tr style=\"text-align: right;\">\n",
              "      <th></th>\n",
              "      <th>age</th>\n",
              "      <th>education-num</th>\n",
              "      <th>race</th>\n",
              "      <th>sex</th>\n",
              "      <th>capital-gain</th>\n",
              "      <th>capital-loss</th>\n",
              "      <th>hours-per-week</th>\n",
              "      <th>income</th>\n",
              "    </tr>\n",
              "  </thead>\n",
              "  <tbody>\n",
              "    <tr>\n",
              "      <th>0</th>\n",
              "      <td>39</td>\n",
              "      <td>13</td>\n",
              "      <td>4</td>\n",
              "      <td>1</td>\n",
              "      <td>2174</td>\n",
              "      <td>0</td>\n",
              "      <td>40</td>\n",
              "      <td>0</td>\n",
              "    </tr>\n",
              "    <tr>\n",
              "      <th>1</th>\n",
              "      <td>50</td>\n",
              "      <td>13</td>\n",
              "      <td>4</td>\n",
              "      <td>1</td>\n",
              "      <td>0</td>\n",
              "      <td>0</td>\n",
              "      <td>13</td>\n",
              "      <td>0</td>\n",
              "    </tr>\n",
              "    <tr>\n",
              "      <th>2</th>\n",
              "      <td>38</td>\n",
              "      <td>9</td>\n",
              "      <td>4</td>\n",
              "      <td>1</td>\n",
              "      <td>0</td>\n",
              "      <td>0</td>\n",
              "      <td>40</td>\n",
              "      <td>0</td>\n",
              "    </tr>\n",
              "    <tr>\n",
              "      <th>3</th>\n",
              "      <td>53</td>\n",
              "      <td>7</td>\n",
              "      <td>2</td>\n",
              "      <td>1</td>\n",
              "      <td>0</td>\n",
              "      <td>0</td>\n",
              "      <td>40</td>\n",
              "      <td>0</td>\n",
              "    </tr>\n",
              "    <tr>\n",
              "      <th>4</th>\n",
              "      <td>28</td>\n",
              "      <td>13</td>\n",
              "      <td>2</td>\n",
              "      <td>0</td>\n",
              "      <td>0</td>\n",
              "      <td>0</td>\n",
              "      <td>40</td>\n",
              "      <td>0</td>\n",
              "    </tr>\n",
              "  </tbody>\n",
              "</table>\n",
              "</div>\n",
              "      <button class=\"colab-df-convert\" onclick=\"convertToInteractive('df-a06a64ed-6d1e-4c27-a1c2-195a2341b6df')\"\n",
              "              title=\"Convert this dataframe to an interactive table.\"\n",
              "              style=\"display:none;\">\n",
              "        \n",
              "  <svg xmlns=\"http://www.w3.org/2000/svg\" height=\"24px\"viewBox=\"0 0 24 24\"\n",
              "       width=\"24px\">\n",
              "    <path d=\"M0 0h24v24H0V0z\" fill=\"none\"/>\n",
              "    <path d=\"M18.56 5.44l.94 2.06.94-2.06 2.06-.94-2.06-.94-.94-2.06-.94 2.06-2.06.94zm-11 1L8.5 8.5l.94-2.06 2.06-.94-2.06-.94L8.5 2.5l-.94 2.06-2.06.94zm10 10l.94 2.06.94-2.06 2.06-.94-2.06-.94-.94-2.06-.94 2.06-2.06.94z\"/><path d=\"M17.41 7.96l-1.37-1.37c-.4-.4-.92-.59-1.43-.59-.52 0-1.04.2-1.43.59L10.3 9.45l-7.72 7.72c-.78.78-.78 2.05 0 2.83L4 21.41c.39.39.9.59 1.41.59.51 0 1.02-.2 1.41-.59l7.78-7.78 2.81-2.81c.8-.78.8-2.07 0-2.86zM5.41 20L4 18.59l7.72-7.72 1.47 1.35L5.41 20z\"/>\n",
              "  </svg>\n",
              "      </button>\n",
              "      \n",
              "  <style>\n",
              "    .colab-df-container {\n",
              "      display:flex;\n",
              "      flex-wrap:wrap;\n",
              "      gap: 12px;\n",
              "    }\n",
              "\n",
              "    .colab-df-convert {\n",
              "      background-color: #E8F0FE;\n",
              "      border: none;\n",
              "      border-radius: 50%;\n",
              "      cursor: pointer;\n",
              "      display: none;\n",
              "      fill: #1967D2;\n",
              "      height: 32px;\n",
              "      padding: 0 0 0 0;\n",
              "      width: 32px;\n",
              "    }\n",
              "\n",
              "    .colab-df-convert:hover {\n",
              "      background-color: #E2EBFA;\n",
              "      box-shadow: 0px 1px 2px rgba(60, 64, 67, 0.3), 0px 1px 3px 1px rgba(60, 64, 67, 0.15);\n",
              "      fill: #174EA6;\n",
              "    }\n",
              "\n",
              "    [theme=dark] .colab-df-convert {\n",
              "      background-color: #3B4455;\n",
              "      fill: #D2E3FC;\n",
              "    }\n",
              "\n",
              "    [theme=dark] .colab-df-convert:hover {\n",
              "      background-color: #434B5C;\n",
              "      box-shadow: 0px 1px 3px 1px rgba(0, 0, 0, 0.15);\n",
              "      filter: drop-shadow(0px 1px 2px rgba(0, 0, 0, 0.3));\n",
              "      fill: #FFFFFF;\n",
              "    }\n",
              "  </style>\n",
              "\n",
              "      <script>\n",
              "        const buttonEl =\n",
              "          document.querySelector('#df-a06a64ed-6d1e-4c27-a1c2-195a2341b6df button.colab-df-convert');\n",
              "        buttonEl.style.display =\n",
              "          google.colab.kernel.accessAllowed ? 'block' : 'none';\n",
              "\n",
              "        async function convertToInteractive(key) {\n",
              "          const element = document.querySelector('#df-a06a64ed-6d1e-4c27-a1c2-195a2341b6df');\n",
              "          const dataTable =\n",
              "            await google.colab.kernel.invokeFunction('convertToInteractive',\n",
              "                                                     [key], {});\n",
              "          if (!dataTable) return;\n",
              "\n",
              "          const docLinkHtml = 'Like what you see? Visit the ' +\n",
              "            '<a target=\"_blank\" href=https://colab.research.google.com/notebooks/data_table.ipynb>data table notebook</a>'\n",
              "            + ' to learn more about interactive tables.';\n",
              "          element.innerHTML = '';\n",
              "          dataTable['output_type'] = 'display_data';\n",
              "          await google.colab.output.renderOutput(dataTable, element);\n",
              "          const docLink = document.createElement('div');\n",
              "          docLink.innerHTML = docLinkHtml;\n",
              "          element.appendChild(docLink);\n",
              "        }\n",
              "      </script>\n",
              "    </div>\n",
              "  </div>\n",
              "  "
            ]
          },
          "metadata": {},
          "execution_count": 3
        }
      ]
    },
    {
      "cell_type": "code",
      "source": [
        "data = np.genfromtxt(data_file, delimiter=\",\", skip_header=1)\n",
        "\n",
        "# printing the data\n",
        "\n",
        "print(\"\\nData: \\n\\n\", data)"
      ],
      "metadata": {
        "colab": {
          "base_uri": "https://localhost:8080/"
        },
        "id": "cYXTSuyRK6we",
        "outputId": "16aff332-81e9-4186-b073-e0b4466098ef"
      },
      "execution_count": 4,
      "outputs": [
        {
          "output_type": "stream",
          "name": "stdout",
          "text": [
            "\n",
            "Data: \n",
            "\n",
            " [[39. 13.  4. ...  0. 40.  0.]\n",
            " [50. 13.  4. ...  0. 13.  0.]\n",
            " [38.  9.  4. ...  0. 40.  0.]\n",
            " ...\n",
            " [48. 13.  4. ...  0. 58.  1.]\n",
            " [40. 10.  4. ...  0. 40.  0.]\n",
            " [39. 13.  4. ...  0. 50.  1.]]\n"
          ]
        }
      ]
    },
    {
      "cell_type": "code",
      "source": [
        "data.shape"
      ],
      "metadata": {
        "colab": {
          "base_uri": "https://localhost:8080/"
        },
        "id": "epZfqDFULY5f",
        "outputId": "58a2d047-617e-4598-da2d-fc8417bce706"
      },
      "execution_count": 5,
      "outputs": [
        {
          "output_type": "execute_result",
          "data": {
            "text/plain": [
              "(1000, 8)"
            ]
          },
          "metadata": {},
          "execution_count": 5
        }
      ]
    },
    {
      "cell_type": "code",
      "source": [
        "# step 2\n",
        "\n",
        "new_record = np.array([[50, 9, 4, 1, 0, 0, 40, 0]])\n",
        "data = np.concatenate((data,new_record),axis = 0)\n"
      ],
      "metadata": {
        "id": "CpnKCTvlMXeC"
      },
      "execution_count": 6,
      "outputs": []
    },
    {
      "cell_type": "code",
      "source": [
        "print(data)"
      ],
      "metadata": {
        "colab": {
          "base_uri": "https://localhost:8080/"
        },
        "id": "MimhTJ3GMukR",
        "outputId": "81f5007a-f071-4a10-caa8-8c26661a035f"
      },
      "execution_count": 7,
      "outputs": [
        {
          "output_type": "stream",
          "name": "stdout",
          "text": [
            "[[39. 13.  4. ...  0. 40.  0.]\n",
            " [50. 13.  4. ...  0. 13.  0.]\n",
            " [38.  9.  4. ...  0. 40.  0.]\n",
            " ...\n",
            " [40. 10.  4. ...  0. 40.  0.]\n",
            " [39. 13.  4. ...  0. 50.  1.]\n",
            " [50.  9.  4. ...  0. 40.  0.]]\n"
          ]
        }
      ]
    },
    {
      "cell_type": "code",
      "source": [
        "age = data[:,0]\n",
        "\n",
        "max_age = age.max()\n",
        "print(max_age)"
      ],
      "metadata": {
        "colab": {
          "base_uri": "https://localhost:8080/"
        },
        "id": "7LWnMRQBNcBB",
        "outputId": "e079ca71-a8d5-4344-f7ef-98e4629bfa9c"
      },
      "execution_count": 8,
      "outputs": [
        {
          "output_type": "stream",
          "name": "stdout",
          "text": [
            "90.0\n"
          ]
        }
      ]
    },
    {
      "cell_type": "code",
      "source": [
        "min_age = age.min()\n",
        "print(min_age)"
      ],
      "metadata": {
        "colab": {
          "base_uri": "https://localhost:8080/"
        },
        "id": "LK9AuELLQhSd",
        "outputId": "7adfbf7f-bd29-4a03-9d81-80671f23381d"
      },
      "execution_count": 9,
      "outputs": [
        {
          "output_type": "stream",
          "name": "stdout",
          "text": [
            "17.0\n"
          ]
        }
      ]
    },
    {
      "cell_type": "code",
      "source": [
        "age_mean = age.mean()\n",
        "print(age_mean)"
      ],
      "metadata": {
        "colab": {
          "base_uri": "https://localhost:8080/"
        },
        "id": "9zq9AZk7Q5NU",
        "outputId": "86cb79f6-0fe3-4556-c265-a275ba7b52c8"
      },
      "execution_count": 10,
      "outputs": [
        {
          "output_type": "stream",
          "name": "stdout",
          "text": [
            "38.06293706293706\n"
          ]
        }
      ]
    },
    {
      "cell_type": "code",
      "source": [
        "age_std = np.std(age)\n",
        "print(age_std)"
      ],
      "metadata": {
        "colab": {
          "base_uri": "https://localhost:8080/"
        },
        "id": "8wemRHtoQAck",
        "outputId": "3d071e97-7283-42a5-ae41-91f1dad6bdda"
      },
      "execution_count": 11,
      "outputs": [
        {
          "output_type": "stream",
          "name": "stdout",
          "text": [
            "13.341478176165857\n"
          ]
        }
      ]
    },
    {
      "cell_type": "code",
      "source": [
        "# step 4\n",
        "\n",
        "\n",
        "Race=np.array(data[:,2])\n",
        "race_a= Race==0\n",
        "race_0=np.array(Race[race_a])\n",
        "print(race_0)\n",
        "Race=np.array(data[:,2])\n",
        "race_b= Race==1\n",
        "race_1=np.array(Race[race_b])\n",
        "print(race_1)\n",
        "Race=np.array(data[:,2])\n",
        "race_c= Race==2\n",
        "race_2=np.array(Race[race_c])\n",
        "print(race_2)\n",
        "Race=np.array(data[:,2])\n",
        "race_d= Race==3\n",
        "race_3=np.array(Race[race_d])\n",
        "print(race_3)\n",
        "Race=np.array(data[:,2])\n",
        "race_e= Race==4\n",
        "race_4=np.array(Race[race_e])\n",
        "print(race_4)\n"
      ],
      "metadata": {
        "colab": {
          "base_uri": "https://localhost:8080/"
        },
        "id": "HXME1ea2SSWK",
        "outputId": "7e201c12-cf72-418c-bb97-78e75cd7d05b"
      },
      "execution_count": 12,
      "outputs": [
        {
          "output_type": "stream",
          "name": "stdout",
          "text": [
            "[0. 0. 0. 0. 0. 0. 0. 0. 0. 0.]\n",
            "[1. 1. 1. 1. 1. 1. 1. 1. 1. 1. 1. 1. 1. 1. 1. 1. 1. 1. 1. 1. 1. 1. 1. 1.\n",
            " 1. 1. 1.]\n",
            "[2. 2. 2. 2. 2. 2. 2. 2. 2. 2. 2. 2. 2. 2. 2. 2. 2. 2. 2. 2. 2. 2. 2. 2.\n",
            " 2. 2. 2. 2. 2. 2. 2. 2. 2. 2. 2. 2. 2. 2. 2. 2. 2. 2. 2. 2. 2. 2. 2. 2.\n",
            " 2. 2. 2. 2. 2. 2. 2. 2. 2. 2. 2. 2. 2. 2. 2. 2. 2. 2. 2. 2. 2. 2. 2. 2.\n",
            " 2. 2. 2. 2. 2. 2. 2. 2. 2. 2. 2. 2. 2. 2. 2. 2. 2. 2. 2. 2. 2. 2. 2. 2.\n",
            " 2. 2. 2. 2. 2. 2. 2. 2. 2. 2. 2. 2. 2. 2.]\n",
            "[3. 3. 3. 3. 3. 3.]\n",
            "[4. 4. 4. 4. 4. 4. 4. 4. 4. 4. 4. 4. 4. 4. 4. 4. 4. 4. 4. 4. 4. 4. 4. 4.\n",
            " 4. 4. 4. 4. 4. 4. 4. 4. 4. 4. 4. 4. 4. 4. 4. 4. 4. 4. 4. 4. 4. 4. 4. 4.\n",
            " 4. 4. 4. 4. 4. 4. 4. 4. 4. 4. 4. 4. 4. 4. 4. 4. 4. 4. 4. 4. 4. 4. 4. 4.\n",
            " 4. 4. 4. 4. 4. 4. 4. 4. 4. 4. 4. 4. 4. 4. 4. 4. 4. 4. 4. 4. 4. 4. 4. 4.\n",
            " 4. 4. 4. 4. 4. 4. 4. 4. 4. 4. 4. 4. 4. 4. 4. 4. 4. 4. 4. 4. 4. 4. 4. 4.\n",
            " 4. 4. 4. 4. 4. 4. 4. 4. 4. 4. 4. 4. 4. 4. 4. 4. 4. 4. 4. 4. 4. 4. 4. 4.\n",
            " 4. 4. 4. 4. 4. 4. 4. 4. 4. 4. 4. 4. 4. 4. 4. 4. 4. 4. 4. 4. 4. 4. 4. 4.\n",
            " 4. 4. 4. 4. 4. 4. 4. 4. 4. 4. 4. 4. 4. 4. 4. 4. 4. 4. 4. 4. 4. 4. 4. 4.\n",
            " 4. 4. 4. 4. 4. 4. 4. 4. 4. 4. 4. 4. 4. 4. 4. 4. 4. 4. 4. 4. 4. 4. 4. 4.\n",
            " 4. 4. 4. 4. 4. 4. 4. 4. 4. 4. 4. 4. 4. 4. 4. 4. 4. 4. 4. 4. 4. 4. 4. 4.\n",
            " 4. 4. 4. 4. 4. 4. 4. 4. 4. 4. 4. 4. 4. 4. 4. 4. 4. 4. 4. 4. 4. 4. 4. 4.\n",
            " 4. 4. 4. 4. 4. 4. 4. 4. 4. 4. 4. 4. 4. 4. 4. 4. 4. 4. 4. 4. 4. 4. 4. 4.\n",
            " 4. 4. 4. 4. 4. 4. 4. 4. 4. 4. 4. 4. 4. 4. 4. 4. 4. 4. 4. 4. 4. 4. 4. 4.\n",
            " 4. 4. 4. 4. 4. 4. 4. 4. 4. 4. 4. 4. 4. 4. 4. 4. 4. 4. 4. 4. 4. 4. 4. 4.\n",
            " 4. 4. 4. 4. 4. 4. 4. 4. 4. 4. 4. 4. 4. 4. 4. 4. 4. 4. 4. 4. 4. 4. 4. 4.\n",
            " 4. 4. 4. 4. 4. 4. 4. 4. 4. 4. 4. 4. 4. 4. 4. 4. 4. 4. 4. 4. 4. 4. 4. 4.\n",
            " 4. 4. 4. 4. 4. 4. 4. 4. 4. 4. 4. 4. 4. 4. 4. 4. 4. 4. 4. 4. 4. 4. 4. 4.\n",
            " 4. 4. 4. 4. 4. 4. 4. 4. 4. 4. 4. 4. 4. 4. 4. 4. 4. 4. 4. 4. 4. 4. 4. 4.\n",
            " 4. 4. 4. 4. 4. 4. 4. 4. 4. 4. 4. 4. 4. 4. 4. 4. 4. 4. 4. 4. 4. 4. 4. 4.\n",
            " 4. 4. 4. 4. 4. 4. 4. 4. 4. 4. 4. 4. 4. 4. 4. 4. 4. 4. 4. 4. 4. 4. 4. 4.\n",
            " 4. 4. 4. 4. 4. 4. 4. 4. 4. 4. 4. 4. 4. 4. 4. 4. 4. 4. 4. 4. 4. 4. 4. 4.\n",
            " 4. 4. 4. 4. 4. 4. 4. 4. 4. 4. 4. 4. 4. 4. 4. 4. 4. 4. 4. 4. 4. 4. 4. 4.\n",
            " 4. 4. 4. 4. 4. 4. 4. 4. 4. 4. 4. 4. 4. 4. 4. 4. 4. 4. 4. 4. 4. 4. 4. 4.\n",
            " 4. 4. 4. 4. 4. 4. 4. 4. 4. 4. 4. 4. 4. 4. 4. 4. 4. 4. 4. 4. 4. 4. 4. 4.\n",
            " 4. 4. 4. 4. 4. 4. 4. 4. 4. 4. 4. 4. 4. 4. 4. 4. 4. 4. 4. 4. 4. 4. 4. 4.\n",
            " 4. 4. 4. 4. 4. 4. 4. 4. 4. 4. 4. 4. 4. 4. 4. 4. 4. 4. 4. 4. 4. 4. 4. 4.\n",
            " 4. 4. 4. 4. 4. 4. 4. 4. 4. 4. 4. 4. 4. 4. 4. 4. 4. 4. 4. 4. 4. 4. 4. 4.\n",
            " 4. 4. 4. 4. 4. 4. 4. 4. 4. 4. 4. 4. 4. 4. 4. 4. 4. 4. 4. 4. 4. 4. 4. 4.\n",
            " 4. 4. 4. 4. 4. 4. 4. 4. 4. 4. 4. 4. 4. 4. 4. 4. 4. 4. 4. 4. 4. 4. 4. 4.\n",
            " 4. 4. 4. 4. 4. 4. 4. 4. 4. 4. 4. 4. 4. 4. 4. 4. 4. 4. 4. 4. 4. 4. 4. 4.\n",
            " 4. 4. 4. 4. 4. 4. 4. 4. 4. 4. 4. 4. 4. 4. 4. 4. 4. 4. 4. 4. 4. 4. 4. 4.\n",
            " 4. 4. 4. 4. 4. 4. 4. 4. 4. 4. 4. 4. 4. 4. 4. 4. 4. 4. 4. 4. 4. 4. 4. 4.\n",
            " 4. 4. 4. 4. 4. 4. 4. 4. 4. 4. 4. 4. 4. 4. 4. 4. 4. 4. 4. 4. 4. 4. 4. 4.\n",
            " 4. 4. 4. 4. 4. 4. 4. 4. 4. 4. 4. 4. 4. 4. 4. 4. 4. 4. 4. 4. 4. 4. 4. 4.\n",
            " 4. 4. 4. 4. 4. 4. 4. 4. 4. 4. 4. 4. 4. 4. 4. 4. 4. 4. 4. 4. 4. 4. 4. 4.\n",
            " 4. 4. 4. 4. 4. 4. 4. 4.]\n"
          ]
        }
      ]
    },
    {
      "cell_type": "code",
      "source": [],
      "metadata": {
        "id": "GJ1868bzqu_s"
      },
      "execution_count": 12,
      "outputs": []
    },
    {
      "cell_type": "code",
      "source": [
        "sc=age>60\n",
        "senior_citizen=data[:][sc]\n",
        "print(senior_citizen)\n",
        "print(len(senior_citizen))\n"
      ],
      "metadata": {
        "colab": {
          "base_uri": "https://localhost:8080/"
        },
        "id": "4Do254gSr7qe",
        "outputId": "170d999a-39f3-4d88-df83-a36a73d67920"
      },
      "execution_count": 13,
      "outputs": [
        {
          "output_type": "stream",
          "name": "stdout",
          "text": [
            "[[7.9000e+01 1.0000e+01 4.0000e+00 1.0000e+00 0.0000e+00 0.0000e+00\n",
            "  2.0000e+01 0.0000e+00]\n",
            " [6.7000e+01 6.0000e+00 4.0000e+00 1.0000e+00 0.0000e+00 0.0000e+00\n",
            "  2.0000e+00 0.0000e+00]\n",
            " [7.6000e+01 1.4000e+01 4.0000e+00 1.0000e+00 0.0000e+00 0.0000e+00\n",
            "  4.0000e+01 1.0000e+00]\n",
            " [6.1000e+01 9.0000e+00 4.0000e+00 1.0000e+00 0.0000e+00 0.0000e+00\n",
            "  4.0000e+01 0.0000e+00]\n",
            " [7.0000e+01 1.0000e+01 4.0000e+00 1.0000e+00 0.0000e+00 0.0000e+00\n",
            "  4.0000e+01 0.0000e+00]\n",
            " [6.4000e+01 7.0000e+00 4.0000e+00 1.0000e+00 0.0000e+00 2.1790e+03\n",
            "  4.0000e+01 0.0000e+00]\n",
            " [7.1000e+01 1.0000e+01 2.0000e+00 1.0000e+00 0.0000e+00 1.8160e+03\n",
            "  2.0000e+00 0.0000e+00]\n",
            " [6.8000e+01 2.0000e+00 4.0000e+00 0.0000e+00 0.0000e+00 0.0000e+00\n",
            "  2.0000e+01 0.0000e+00]\n",
            " [6.6000e+01 1.1000e+01 4.0000e+00 0.0000e+00 0.0000e+00 0.0000e+00\n",
            "  2.0000e+01 0.0000e+00]\n",
            " [6.4000e+01 2.0000e+00 4.0000e+00 1.0000e+00 0.0000e+00 0.0000e+00\n",
            "  4.0000e+01 0.0000e+00]\n",
            " [9.0000e+01 9.0000e+00 2.0000e+00 1.0000e+00 0.0000e+00 2.2060e+03\n",
            "  4.0000e+01 0.0000e+00]\n",
            " [6.6000e+01 9.0000e+00 4.0000e+00 1.0000e+00 1.4090e+03 0.0000e+00\n",
            "  5.0000e+01 0.0000e+00]\n",
            " [7.5000e+01 1.1000e+01 4.0000e+00 0.0000e+00 0.0000e+00 0.0000e+00\n",
            "  2.0000e+01 0.0000e+00]\n",
            " [6.5000e+01 9.0000e+00 4.0000e+00 0.0000e+00 0.0000e+00 0.0000e+00\n",
            "  4.0000e+01 0.0000e+00]\n",
            " [6.4000e+01 9.0000e+00 4.0000e+00 1.0000e+00 0.0000e+00 0.0000e+00\n",
            "  4.0000e+01 1.0000e+00]\n",
            " [6.1000e+01 9.0000e+00 4.0000e+00 1.0000e+00 0.0000e+00 0.0000e+00\n",
            "  4.0000e+01 1.0000e+00]\n",
            " [6.5000e+01 9.0000e+00 4.0000e+00 1.0000e+00 0.0000e+00 0.0000e+00\n",
            "  1.6000e+01 0.0000e+00]\n",
            " [7.7000e+01 1.0000e+01 4.0000e+00 1.0000e+00 0.0000e+00 0.0000e+00\n",
            "  4.0000e+01 0.0000e+00]\n",
            " [6.2000e+01 9.0000e+00 4.0000e+00 0.0000e+00 0.0000e+00 0.0000e+00\n",
            "  2.4000e+01 0.0000e+00]\n",
            " [7.6000e+01 1.4000e+01 4.0000e+00 1.0000e+00 0.0000e+00 0.0000e+00\n",
            "  1.0000e+01 0.0000e+00]\n",
            " [6.3000e+01 9.0000e+00 4.0000e+00 1.0000e+00 0.0000e+00 0.0000e+00\n",
            "  4.5000e+01 0.0000e+00]\n",
            " [6.6000e+01 9.0000e+00 4.0000e+00 1.0000e+00 2.0500e+03 0.0000e+00\n",
            "  5.5000e+01 0.0000e+00]\n",
            " [6.7000e+01 7.0000e+00 4.0000e+00 1.0000e+00 0.0000e+00 0.0000e+00\n",
            "  8.0000e+00 0.0000e+00]\n",
            " [6.5000e+01 7.0000e+00 3.0000e+00 1.0000e+00 0.0000e+00 0.0000e+00\n",
            "  4.0000e+01 0.0000e+00]\n",
            " [6.2000e+01 1.4000e+01 4.0000e+00 1.0000e+00 0.0000e+00 0.0000e+00\n",
            "  4.0000e+01 1.0000e+00]\n",
            " [6.3000e+01 9.0000e+00 4.0000e+00 1.0000e+00 0.0000e+00 0.0000e+00\n",
            "  4.0000e+01 1.0000e+00]\n",
            " [8.0000e+01 9.0000e+00 4.0000e+00 1.0000e+00 0.0000e+00 0.0000e+00\n",
            "  2.4000e+01 0.0000e+00]\n",
            " [6.7000e+01 1.1000e+01 4.0000e+00 0.0000e+00 0.0000e+00 0.0000e+00\n",
            "  2.4000e+01 0.0000e+00]\n",
            " [6.3000e+01 2.0000e+00 4.0000e+00 1.0000e+00 0.0000e+00 0.0000e+00\n",
            "  3.5000e+01 0.0000e+00]\n",
            " [7.2000e+01 9.0000e+00 4.0000e+00 1.0000e+00 0.0000e+00 0.0000e+00\n",
            "  2.0000e+01 0.0000e+00]\n",
            " [6.2000e+01 9.0000e+00 4.0000e+00 1.0000e+00 0.0000e+00 0.0000e+00\n",
            "  4.0000e+01 0.0000e+00]\n",
            " [7.4000e+01 1.0000e+01 4.0000e+00 0.0000e+00 0.0000e+00 0.0000e+00\n",
            "  9.0000e+00 0.0000e+00]\n",
            " [6.7000e+01 1.5000e+01 4.0000e+00 1.0000e+00 2.0051e+04 0.0000e+00\n",
            "  4.8000e+01 1.0000e+00]\n",
            " [7.2000e+01 7.0000e+00 4.0000e+00 0.0000e+00 0.0000e+00 0.0000e+00\n",
            "  4.0000e+01 0.0000e+00]\n",
            " [6.9000e+01 7.0000e+00 4.0000e+00 0.0000e+00 0.0000e+00 0.0000e+00\n",
            "  4.0000e+01 0.0000e+00]\n",
            " [6.5000e+01 1.0000e+01 4.0000e+00 1.0000e+00 0.0000e+00 0.0000e+00\n",
            "  3.0000e+01 1.0000e+00]\n",
            " [6.5000e+01 5.0000e+00 2.0000e+00 0.0000e+00 0.0000e+00 0.0000e+00\n",
            "  2.4000e+01 0.0000e+00]\n",
            " [7.1000e+01 9.0000e+00 4.0000e+00 1.0000e+00 0.0000e+00 0.0000e+00\n",
            "  1.5000e+01 0.0000e+00]\n",
            " [7.0000e+01 5.0000e+00 4.0000e+00 0.0000e+00 1.1110e+03 0.0000e+00\n",
            "  1.5000e+01 0.0000e+00]\n",
            " [6.6000e+01 4.0000e+00 4.0000e+00 1.0000e+00 0.0000e+00 0.0000e+00\n",
            "  4.0000e+00 0.0000e+00]\n",
            " [6.5000e+01 7.0000e+00 4.0000e+00 1.0000e+00 9.3860e+03 0.0000e+00\n",
            "  5.9000e+01 1.0000e+00]\n",
            " [6.1000e+01 9.0000e+00 4.0000e+00 1.0000e+00 0.0000e+00 2.3520e+03\n",
            "  5.0000e+01 0.0000e+00]\n",
            " [6.1000e+01 9.0000e+00 4.0000e+00 1.0000e+00 0.0000e+00 0.0000e+00\n",
            "  4.0000e+01 0.0000e+00]\n",
            " [6.8000e+01 7.0000e+00 4.0000e+00 1.0000e+00 0.0000e+00 0.0000e+00\n",
            "  2.0000e+01 0.0000e+00]\n",
            " [6.4000e+01 1.3000e+01 4.0000e+00 1.0000e+00 0.0000e+00 0.0000e+00\n",
            "  4.0000e+01 1.0000e+00]\n",
            " [6.4000e+01 9.0000e+00 4.0000e+00 1.0000e+00 0.0000e+00 0.0000e+00\n",
            "  4.5000e+01 0.0000e+00]\n",
            " [6.2000e+01 9.0000e+00 4.0000e+00 0.0000e+00 0.0000e+00 0.0000e+00\n",
            "  4.0000e+01 0.0000e+00]\n",
            " [7.3000e+01 9.0000e+00 4.0000e+00 1.0000e+00 0.0000e+00 0.0000e+00\n",
            "  4.0000e+01 0.0000e+00]\n",
            " [7.2000e+01 7.0000e+00 4.0000e+00 0.0000e+00 0.0000e+00 0.0000e+00\n",
            "  2.4000e+01 0.0000e+00]\n",
            " [6.3000e+01 9.0000e+00 4.0000e+00 1.0000e+00 0.0000e+00 0.0000e+00\n",
            "  6.0000e+00 0.0000e+00]\n",
            " [6.2000e+01 1.3000e+01 4.0000e+00 0.0000e+00 0.0000e+00 0.0000e+00\n",
            "  4.8000e+01 0.0000e+00]\n",
            " [6.1000e+01 1.4000e+01 4.0000e+00 0.0000e+00 0.0000e+00 0.0000e+00\n",
            "  4.0000e+01 1.0000e+00]\n",
            " [7.1000e+01 1.4000e+01 4.0000e+00 1.0000e+00 1.0605e+04 0.0000e+00\n",
            "  4.0000e+01 1.0000e+00]\n",
            " [6.3000e+01 1.0000e+01 4.0000e+00 1.0000e+00 0.0000e+00 0.0000e+00\n",
            "  1.5000e+01 0.0000e+00]\n",
            " [6.3000e+01 4.0000e+00 4.0000e+00 1.0000e+00 0.0000e+00 0.0000e+00\n",
            "  5.5000e+01 0.0000e+00]\n",
            " [6.7000e+01 9.0000e+00 1.0000e+00 1.0000e+00 0.0000e+00 0.0000e+00\n",
            "  4.0000e+01 1.0000e+00]\n",
            " [8.1000e+01 9.0000e+00 4.0000e+00 1.0000e+00 0.0000e+00 0.0000e+00\n",
            "  3.0000e+01 0.0000e+00]\n",
            " [6.4000e+01 9.0000e+00 4.0000e+00 1.0000e+00 0.0000e+00 0.0000e+00\n",
            "  5.0000e+00 0.0000e+00]\n",
            " [6.7000e+01 1.3000e+01 4.0000e+00 1.0000e+00 0.0000e+00 2.3920e+03\n",
            "  4.0000e+01 1.0000e+00]\n",
            " [7.8000e+01 9.0000e+00 2.0000e+00 0.0000e+00 2.9640e+03 0.0000e+00\n",
            "  4.0000e+01 0.0000e+00]\n",
            " [6.3000e+01 1.1000e+01 4.0000e+00 0.0000e+00 0.0000e+00 0.0000e+00\n",
            "  2.0000e+01 0.0000e+00]]\n",
            "61\n"
          ]
        }
      ]
    },
    {
      "cell_type": "code",
      "source": [
        "working_hour=np.array(senior_citizen[:,6])\n",
        "print(working_hour)\n",
        "working_hours_sum=working_hour.sum()\n",
        "print(working_hours_sum)\n"
      ],
      "metadata": {
        "id": "eekggWR0rZcq",
        "colab": {
          "base_uri": "https://localhost:8080/"
        },
        "outputId": "4374b96a-4aa2-4b62-d18d-94976a385adc"
      },
      "execution_count": 14,
      "outputs": [
        {
          "output_type": "stream",
          "name": "stdout",
          "text": [
            "[20.  2. 40. 40. 40. 40.  2. 20. 20. 40. 40. 50. 20. 40. 40. 40. 16. 40.\n",
            " 24. 10. 45. 55.  8. 40. 40. 40. 24. 24. 35. 20. 40.  9. 48. 40. 40. 30.\n",
            " 24. 15. 15.  4. 59. 50. 40. 20. 40. 45. 40. 40. 24.  6. 48. 40. 40. 15.\n",
            " 55. 40. 30.  5. 40. 40. 20.]\n",
            "1917.0\n"
          ]
        }
      ]
    },
    {
      "cell_type": "code",
      "source": [
        "avg_working_hour=np.mean(working_hour)\n",
        "print(avg_working_hour)\n"
      ],
      "metadata": {
        "id": "Zas3vMdhr4Ir",
        "colab": {
          "base_uri": "https://localhost:8080/"
        },
        "outputId": "92222a40-3419-4624-942e-50c8f2af5b4c"
      },
      "execution_count": 15,
      "outputs": [
        {
          "output_type": "stream",
          "name": "stdout",
          "text": [
            "31.42622950819672\n"
          ]
        }
      ]
    },
    {
      "cell_type": "code",
      "source": [
        "education_num=np.array(data[:,1])\n",
        "print(education_num)\n"
      ],
      "metadata": {
        "id": "dGru1iELtE83",
        "colab": {
          "base_uri": "https://localhost:8080/"
        },
        "outputId": "fd41c8d2-cefc-4682-b741-2bbfaf9ed2b6"
      },
      "execution_count": 16,
      "outputs": [
        {
          "output_type": "stream",
          "name": "stdout",
          "text": [
            "[13. 13.  9. ... 10. 13.  9.]\n"
          ]
        }
      ]
    },
    {
      "cell_type": "code",
      "source": [
        "high=education_num>10\n",
        "low=education_num<=10\n",
        "High=np.array(data[high])\n",
        "Low=np.array(data[low])\n",
        "print(High)\n",
        "print(Low)\n",
        "print(High.shape)\n",
        "print(Low.shape)\n"
      ],
      "metadata": {
        "id": "dMmAn3t2tRk-",
        "colab": {
          "base_uri": "https://localhost:8080/"
        },
        "outputId": "9d8c5436-ef51-4c41-c6a6-4ba528e75480"
      },
      "execution_count": 17,
      "outputs": [
        {
          "output_type": "stream",
          "name": "stdout",
          "text": [
            "[[39. 13.  4. ...  0. 40.  0.]\n",
            " [50. 13.  4. ...  0. 13.  0.]\n",
            " [28. 13.  2. ...  0. 40.  0.]\n",
            " ...\n",
            " [45. 14.  4. ...  0. 45.  0.]\n",
            " [48. 13.  4. ...  0. 58.  1.]\n",
            " [39. 13.  4. ...  0. 50.  1.]]\n",
            "[[38.  9.  4. ...  0. 40.  0.]\n",
            " [53.  7.  2. ...  0. 40.  0.]\n",
            " [49.  5.  2. ...  0. 16.  0.]\n",
            " ...\n",
            " [56.  9.  4. ...  0. 55.  1.]\n",
            " [40. 10.  4. ...  0. 40.  0.]\n",
            " [50.  9.  4. ...  0. 40.  0.]]\n",
            "(327, 8)\n",
            "(674, 8)\n"
          ]
        }
      ]
    },
    {
      "cell_type": "code",
      "source": [
        "avg_highpay=High.mean()\n",
        "print(avg_highpay)"
      ],
      "metadata": {
        "id": "Dq2JDYljtivC",
        "colab": {
          "base_uri": "https://localhost:8080/"
        },
        "outputId": "b7881736-5ee4-4959-c191-2c6aac34c6f4"
      },
      "execution_count": 18,
      "outputs": [
        {
          "output_type": "stream",
          "name": "stdout",
          "text": [
            "167.18119266055047\n"
          ]
        }
      ]
    },
    {
      "cell_type": "code",
      "source": [
        "avg_lowpay=Low.mean()\n",
        "print(avg_lowpay)"
      ],
      "metadata": {
        "id": "g-iScgK1uPqY",
        "colab": {
          "base_uri": "https://localhost:8080/"
        },
        "outputId": "9e41e963-b00b-4c9c-820f-014800ef6cdb"
      },
      "execution_count": 19,
      "outputs": [
        {
          "output_type": "stream",
          "name": "stdout",
          "text": [
            "62.46494807121662\n"
          ]
        }
      ]
    },
    {
      "cell_type": "code",
      "source": [],
      "metadata": {
        "id": "i097W1qGtdQh"
      },
      "execution_count": 19,
      "outputs": []
    }
  ]
}